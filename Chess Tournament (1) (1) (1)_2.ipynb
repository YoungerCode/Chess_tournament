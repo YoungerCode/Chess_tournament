{
 "cells": [
  {
   "cell_type": "code",
   "execution_count": 1,
   "metadata": {},
   "outputs": [],
   "source": [
    "from tkinter import *\n",
    "from tkinter import ttk\n",
    "from tkinter import Tk\n",
    "import random\n",
    "from datetime import datetime\n",
    "import tkinter.messagebox\n"
   ]
  },
  {
   "cell_type": "code",
   "execution_count": 2,
   "metadata": {},
   "outputs": [],
   "source": [
    "class Tournament:\n",
    "    \n",
    "    def __init__(self, root):\n",
    "        self.root = root\n",
    "        self.root.title(\"Chess Tournament System\")\n",
    "        #self.root.geometry(\"1350+750+0+0\")\n",
    "        self.root.configure(background = \"black\")\n",
    "\n",
    "        ########################################### Frames #######################################################\n",
    "\n",
    "        Mainframe = Frame(self.root)\n",
    "        Mainframe .grid()\n",
    "        \n",
    "        Titleframe = Frame(Mainframe,width = 150,padx=20,bd=20,relief = RIDGE)\n",
    "        Titleframe.pack(side = TOP)\n",
    "        \n",
    "        self.lblTitle = Label(Titleframe,width = 39,font = ('arial',40,'bold'),text = \"\\tChess Tournament\\t\",padx =12)\n",
    "        self.lblTitle .grid()\n",
    "        \n",
    "        Dataframe = Frame(Mainframe, bd = 20, width =100, height = 200, padx = 20, relief = RIDGE)\n",
    "        Dataframe.pack(side=BOTTOM)\n",
    "        \n",
    "        \n",
    "        Dataframeleft = LabelFrame(Dataframe, bd = 10 ,width = 350,height = 600, padx = 20, relief=RIDGE, font=('arial', 12, 'italic', 'bold'), text = \"\\tPlayer Details\\t\",)\n",
    "        Dataframeleft.pack(side = LEFT)\n",
    "        \n",
    "        Dataframeright = LabelFrame(Dataframe, bd = 10 ,width = 350,height = 600, padx = 20, relief=RIDGE, font=('arial', 12, 'italic', 'bold'), text = \"\\tList of Players\\t\",)\n",
    "        Dataframeright.pack(side = RIGHT)\n",
    "        \n",
    "        \n",
    "        ########################################### Widget/s ############################################################\n",
    "        \n",
    "        self.lblUsername = Label(Dataframeleft, font =('arial', 12, 'bold'), text = \"Username: \", padx=2, pady=2)\n",
    "        self.lblUsername .grid(row=0, column=0, sticky=W)\n",
    "        self.lblName = Entry(Dataframeleft, font=('arial', 12, 'bold'), width =25)\n",
    "        self.lblName .grid(row=0, column=1)\n",
    "        \n",
    "        self.lblName = Label(Dataframeleft, font =('arial', 12, 'bold'), text = \"Name: \", padx=2, pady=2)\n",
    "        self.lblName .grid(row=1, column=0, sticky=W)\n",
    "        self.lblName = Entry(Dataframeleft, font=('arial', 12, 'bold'), width =25)\n",
    "        self.lblName .grid(row=1, column=1)\n",
    "        \n",
    "        \n",
    "        self.lblCohort = Label(Dataframeleft, font =('arial', 12, 'bold'), text = \"Cohort: \", padx=2, pady=2)\n",
    "        self.lblCohort .grid(row=2, column=0, sticky=W)\n",
    "        \n",
    "        self.cboCohort = ttk.Combobox(Dataframeleft, font =('arial', 12, 'bold'), state ='readonly', width =23)\n",
    "        self.cboCohort['value'] = ('','14', '15', '16', '17', '18', '19', '20', '21', 'Staff')\n",
    "        self.cboCohort.current(0)\n",
    "        self.cboCohort .grid(row=2, column=1)\n",
    "        \n",
    "        \n",
    "        self.lblLevel = Label(Dataframeleft, font =('arial', 12, 'bold'), text = \"Level of Experience: \", padx=2, pady=2)\n",
    "        self.lblLevel .grid(row=3, column=0, sticky=W)\n",
    "        \n",
    "        self.cboLevel = ttk.Combobox(Dataframeleft, font =('arial', 12, 'bold'), state ='readonly', width =23)\n",
    "        self.cboLevel ['value'] = ('','Beginner', 'Novice', 'Master')\n",
    "        self.cboLevel .current(0)\n",
    "        self.cboLevel .grid(row=3, column=1)\n",
    "        \n",
    "        ###################################### List of players Widget#############################################\n",
    "        self.txtDisplayR=Text(Dataframeright,font=('arial', 12, 'bold'), width =32, height=13, padx=8, pady=20)\n",
    "        self.txtDisplayR.grid(row=0, column=2)\n",
    "        \n",
    "        #####################################List Box ###########################################################\n",
    "        scrollbar = Scrollbar(Dataframeright)\n",
    "        scrollbar.grid(row=0, column = 1, sticky='ns')\n",
    "        \n",
    "        \n",
    "        ListOfPlayers = ['Tim', 'James', 'Sibu', 'Gloria', 'Nathi', 'Jacquar', 'Danziel', 'Dineo', 'Themba', 'Tumi', 'Senzo', \n",
    "                        'Sfiso', 'Leheto', 'Rose', 'Joe', 'Sindi', 'Velly', 'John', 'Matthew', 'Donald', 'Obama', 'Thando',\n",
    "                        'Mbali', 'Pricillia', 'King', 'Keoreketswe', 'Peter', 'London', 'December']\n",
    "        \n",
    "        playerlist = Listbox(Dataframeright, width = 20, height = 12, font = ('arial', 12, 'bold'))\n",
    "        playerlist.bind('<<ListboxSelect>>')\n",
    "        playerlist.grid(row=0, column =0, padx =8)\n",
    "        scrollbar.config(command=playerlist.yview)\n",
    "        \n",
    "        for iteams in ListOfPlayers:\n",
    "            playerlist.insert(END,iteams)\n",
    "        \n",
    "        \n",
    "        \n",
    "        \n",
    "        \n",
    "       \n",
    "        \n",
    "       # DataframeLeft = Label(Dataframe,bd = 10 ,width = 800,height = 300, padx = 20, relief=RIDGE,font = ('arial',12,'bold'),text = \"Player Details\",)\n",
    "        #DataframeLeft.pack(side = \"left\")\n",
    "        \n",
    "if __name__ == '__main__':\n",
    "    root =Tk()\n",
    "    application = Tournament(root)\n",
    "    root.mainloop()"
   ]
  },
  {
   "cell_type": "code",
   "execution_count": 76,
   "metadata": {},
   "outputs": [],
   "source": [
    "from itertools import compress\n",
    "\n",
    "test_list = ['Tim', 'James', 'Sibu', 'Gloria', 'Nathi', 'Jacquar', 'Danziel', 'Dineo', 'Themba', 'Tumi', 'Senzo', \n",
    "                        'Sfiso', 'Leheto', 'Rose', 'Joe', 'Sindi', 'Velly', 'John', 'Matthew', 'Donald', 'Obama', 'Thando',\n",
    "                        'Mbali', 'Pricillia', 'King', 'Keoreketswe', 'Peter', 'London', 'December']\n",
    "#for i in range(len(test_list))]\n",
    "#print(i, value)\n",
    "\n",
    "#print('The pair list is : ' + str(res))\n",
    "\n",
    "#print([list((i, test_list[i])) for i in range (len(test_list))])\n"
   ]
  },
  {
   "cell_type": "code",
   "execution_count": 77,
   "metadata": {},
   "outputs": [
    {
     "data": {
      "text/plain": [
       "['Tim',\n",
       " 'James',\n",
       " 'Sibu',\n",
       " 'Gloria',\n",
       " 'Nathi',\n",
       " 'Jacquar',\n",
       " 'Danziel',\n",
       " 'Dineo',\n",
       " 'Themba',\n",
       " 'Tumi',\n",
       " 'Senzo',\n",
       " 'Sfiso',\n",
       " 'Leheto',\n",
       " 'Rose',\n",
       " 'Joe',\n",
       " 'Sindi',\n",
       " 'Velly',\n",
       " 'John',\n",
       " 'Matthew',\n",
       " 'Donald',\n",
       " 'Obama',\n",
       " 'Thando',\n",
       " 'Mbali',\n",
       " 'Pricillia',\n",
       " 'King',\n",
       " 'Keoreketswe',\n",
       " 'Peter',\n",
       " 'London',\n",
       " 'December']"
      ]
     },
     "execution_count": 77,
     "metadata": {},
     "output_type": "execute_result"
    }
   ],
   "source": [
    "test_list"
   ]
  },
  {
   "cell_type": "code",
   "execution_count": 84,
   "metadata": {},
   "outputs": [
    {
     "name": "stdout",
     "output_type": "stream",
     "text": [
      "The pair list is : [('player1', 'player2'), ('player2', 'player3'), ('player3', 'player4'), ('player4', 'player5'), ('player5', 'player6'), ('player6', 'player7'), ('player7', 'player1')]\n"
     ]
    }
   ],
   "source": [
    "def pair_list_item(res):\n",
    "    return list(zip(test_list, test_list[1:] + test_list[:1]))\n",
    "    \n",
    "print('The pair list is : ' + str(res))\n",
    "        \n"
   ]
  },
  {
   "cell_type": "code",
   "execution_count": 85,
   "metadata": {},
   "outputs": [
    {
     "data": {
      "text/plain": [
       "[('Tim', 'James'),\n",
       " ('James', 'Sibu'),\n",
       " ('Sibu', 'Gloria'),\n",
       " ('Gloria', 'Nathi'),\n",
       " ('Nathi', 'Jacquar'),\n",
       " ('Jacquar', 'Danziel'),\n",
       " ('Danziel', 'Dineo'),\n",
       " ('Dineo', 'Themba'),\n",
       " ('Themba', 'Tumi'),\n",
       " ('Tumi', 'Senzo'),\n",
       " ('Senzo', 'Sfiso'),\n",
       " ('Sfiso', 'Leheto'),\n",
       " ('Leheto', 'Rose'),\n",
       " ('Rose', 'Joe'),\n",
       " ('Joe', 'Sindi'),\n",
       " ('Sindi', 'Velly'),\n",
       " ('Velly', 'John'),\n",
       " ('John', 'Matthew'),\n",
       " ('Matthew', 'Donald'),\n",
       " ('Donald', 'Obama'),\n",
       " ('Obama', 'Thando'),\n",
       " ('Thando', 'Mbali'),\n",
       " ('Mbali', 'Pricillia'),\n",
       " ('Pricillia', 'King'),\n",
       " ('King', 'Keoreketswe'),\n",
       " ('Keoreketswe', 'Peter'),\n",
       " ('Peter', 'London'),\n",
       " ('London', 'December'),\n",
       " ('December', 'Tim')]"
      ]
     },
     "execution_count": 85,
     "metadata": {},
     "output_type": "execute_result"
    }
   ],
   "source": [
    "pair_list_item('YAnga')"
   ]
  },
  {
   "cell_type": "code",
   "execution_count": null,
   "metadata": {},
   "outputs": [],
   "source": [
    "from django.http import HttpResponse\n",
    "from django.template import loader\n",
    "\n",
    "from fixture.models import Fixture, Match\n",
    "\n",
    "\n",
    "def index(request):\n",
    "    fixture_list = Fixture.objects.order_by('-pub_date')\n",
    "    match_list = []\n",
    "    for fixture in fixture_list:\n",
    "        matches = {}\n",
    "        matches['fixture'] = fixture\n",
    "        matches['matches'] = Match.objects.filter(fixture=fixture, status =\"Scheduled\").order_by('-date').all()\n",
    "        match_list.append(matches)\n",
    "    template = loader.get_template('fixture/index.html')\n",
    "    context = {\n",
    "        'fixture_list': fixture_list,\n",
    "        'match_list': match_list,\n",
    "    }\n",
    "    return HttpResponse(template.render(context, request))"
   ]
  }
 ],
 "metadata": {
  "kernelspec": {
   "display_name": "Python 3",
   "language": "python",
   "name": "python3"
  },
  "language_info": {
   "codemirror_mode": {
    "name": "ipython",
    "version": 3
   },
   "file_extension": ".py",
   "mimetype": "text/x-python",
   "name": "python",
   "nbconvert_exporter": "python",
   "pygments_lexer": "ipython3",
   "version": "3.6.8"
  }
 },
 "nbformat": 4,
 "nbformat_minor": 2
}
