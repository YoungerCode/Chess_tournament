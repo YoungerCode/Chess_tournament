{
 "cells": [
  {
   "cell_type": "code",
   "execution_count": null,
   "metadata": {},
   "outputs": [],
   "source": []
  },
  {
   "cell_type": "code",
   "execution_count": null,
   "metadata": {},
   "outputs": [],
   "source": [
    "from tkinter import *\n",
    "\n",
    "bye = 'Goodbye'\n",
    "\n",
    "\n",
    "def update_text():\n",
    "    label.config(text=bye)\n",
    "\n",
    "\n",
    "root = Tk()\n",
    "root.title(\"My Title\")\n",
    "label = Label(root, text=\"Hello\")\n",
    "label.pack()\n",
    "button = Button(root, text=\"Click Me\", width=30, command=update_text)\n",
    "button.pack()\n",
    "root.mainloop()"
   ]
  },
  {
   "cell_type": "code",
   "execution_count": 14,
   "metadata": {},
   "outputs": [
    {
     "ename": "SyntaxError",
     "evalue": "unexpected EOF while parsing (<ipython-input-14-891d716e7633>, line 4)",
     "output_type": "error",
     "traceback": [
      "\u001b[0;36m  File \u001b[0;32m\"<ipython-input-14-891d716e7633>\"\u001b[0;36m, line \u001b[0;32m4\u001b[0m\n\u001b[0;31m    \u001b[0m\n\u001b[0m    ^\u001b[0m\n\u001b[0;31mSyntaxError\u001b[0m\u001b[0;31m:\u001b[0m unexpected EOF while parsing\n"
     ]
    }
   ],
   "source": [
    "import random\n",
    "\n",
    "def players(ListOfPlayers):\n",
    "    ListOfPlayers = ['Tim', 'James', 'Sibu', 'Gloria', 'Nathi', 'Jacquar', 'Danziel', 'Dineo', 'Themba', 'Tumi', 'Senzo', \n",
    "                        'Sfiso', 'Leheto', 'Rose', 'Joe', 'Sindi', 'Velly', 'John', 'Matthew', 'Donald', 'Obama', 'Thando',\n",
    "                        'Mbali', 'Pricillia', 'King', 'Keoreketswe', 'Peter', 'London', 'December']\n",
    "\n"
   ]
  },
  {
   "cell_type": "code",
   "execution_count": null,
   "metadata": {},
   "outputs": [],
   "source": []
  }
 ],
 "metadata": {
  "kernelspec": {
   "display_name": "Python 3",
   "language": "python",
   "name": "python3"
  }
 },
 "nbformat": 4,
 "nbformat_minor": 4
}
